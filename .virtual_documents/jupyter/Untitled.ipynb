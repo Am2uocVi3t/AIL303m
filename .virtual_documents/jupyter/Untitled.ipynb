import numpy as np
import pandas as pd
from sklearn.preprocessing import LabelBinarizer, LabelEncoder
df = pd.read_csv("churndata_processed.csv")
df.head()


df.describe()


df.columns


for col in df.columns:
    print(f"{col} has: {df[col].unique()}")
    print(f"Type of {col} is {df[col].dtypes}")


categorial_cols = []
for col in df.columns:
    unique_vals = df[col].dropna().unique()
    if 6 >= len(unique_vals) > 2:
        # print(f"{col}: {unique_vals}")
        categorial_cols.append(col)

print(categorial_cols)


binary_cols = []
for col in df.columns:
    unique_vals = df[col].dropna().unique()
    if len(unique_vals) == 2:
        # print(f"{col}: {unique_vals}")
        binary_cols.append(col)

print(binary_cols)


ordinal_cols = ['months', 'contract', 'satisfaction']
print(ordinal_cols)


numeric_cols = list(set(df.columns) - set(ordinal_cols) - set(binary_cols) - set(categorial_cols))
print(numeric_cols)


max_value = float('-inf')
for col in df.columns:
    unique_vals = df[col].dropna().unique()
    if len(unique_vals) > 2 and len(unique_vals) > max_value:
        max_value = len(unique_vals)


print(max_value)


lb, le = LabelBinarizer(), LabelEncoder()

for col in ordinal_cols:
    df[col] = le.fit_transform(df[col])

df[ordinal_cols].astype('category').describe()


for col in binary_cols:
    df[col] = lb.fit_transform(df[col])

df[binary_cols].describe()


categorial_cols = list(set(categorial_cols) - set(ordinal_cols))
df = pd.get_dummies(df, columns=categorial_cols,drop_first=True)
df.describe().T


from sklearn.preprocessing import MinMaxScaler

mm = MinMaxScaler()
for col in [ordinal_cols + numeric_cols]:
    df[col] = mm.fit_transform(df[col])

df[ordinal_cols + numeric_cols].describe().T


from sklearn.model_selection import train_test_split

X = df.drop(columns="churn_value")
y = df["churn_value"]

X_train, X_test, y_train, y_test = train_test_split(X, y, test_size=0.2, random_state=42)


from sklearn.neighbors import KNeighborsClassifier
import matplotlib.pyplot as plt
import seaborn as sns
from sklearn.metrics import classification_report, accuracy_score, f1_score

accuracies = []
f1_scores = []
k_range = range(1, 21)

for k in k_range:
    knn = KNeighborsClassifier(n_neighbors=k)
    knn.fit(X_train, y_train)
    y_pred = knn.predict(X_test)

    f1_scores.append(round(f1_score(y_test, y_pred), 2))
    accuracies.append(round(accuracy_score(y_test, y_pred), 2))





from sklearn.metrics import confusion_matrix

sns.set_palette(sns.color_palette())
_, ax = plt.subplots(figsize(12,12))
ax = sns.heatmap(confusion_matrix(y_test, y_pred), annot=True, fmt='d', annot_kws={"size": 40, "weight": "bold"})
labels = ["False", "True"]

ax.set_xticklabels(labels, fontsize=25)
ax.set_yticklabels(labels[::-1], fontsize=25)
ax.set_ylabel("Prediction", fontsize=30)
ax.set_xlabel("Ground Truth", fontsize=30)



