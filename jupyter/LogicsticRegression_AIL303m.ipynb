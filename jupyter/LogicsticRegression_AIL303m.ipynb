{
 "cells": [
  {
   "cell_type": "code",
   "execution_count": null,
   "id": "7d74b153-c8b4-418e-a35b-0f91501fe19d",
   "metadata": {},
   "outputs": [],
   "source": [
    "import numpy as np\n",
    "import pandas as pd\n",
    "import matplotlib.pyplot as plt\n",
    "\n",
    "\n",
    "df = pd.read_csv(\"Human_Activity_Recognition_Using_Smartphones_Data.csv\")\n",
    "df.head()"
   ]
  },
  {
   "cell_type": "code",
   "execution_count": null,
   "id": "5458bfe0-51ec-4a97-a6b0-1c9af19564b9",
   "metadata": {},
   "outputs": [],
   "source": [
    "print(df[\"Activity\"].unique())\n",
    "print(\"Number of class in Activity is: \", df[\"Activity\"].nunique())"
   ]
  },
  {
   "cell_type": "code",
   "execution_count": null,
   "id": "c6a463ba-b36c-4b4e-9407-1d4401dca9ac",
   "metadata": {},
   "outputs": [],
   "source": [
    "print(df.dtypes)"
   ]
  },
  {
   "cell_type": "code",
   "execution_count": null,
   "id": "0dcb80a3-4867-47e2-9cb1-15b16c0f4ff4",
   "metadata": {},
   "outputs": [],
   "source": [
    "print(df.iloc[:, :-1].min().value_counts())\n",
    "print(df.iloc[:, :-1].max().value_counts())\n",
    "df['Activity'].value_counts()"
   ]
  },
  {
   "cell_type": "code",
   "execution_count": null,
   "id": "6b4d3e9d-538f-4198-8b67-be855b9ea8a5",
   "metadata": {},
   "outputs": [],
   "source": [
    "plt.figure(figsize=(10,5))\n",
    "df[\"Activity\"].value_counts().plot(kind='bar')\n",
    "\n",
    "plt.xlabel(\"Activities\")\n",
    "plt.ylabel(\"Number of Samples\")\n",
    "plt.xticks(rotation=45)\n",
    "plt.tight_layout()\n",
    "plt.show()"
   ]
  },
  {
   "cell_type": "code",
   "execution_count": null,
   "id": "cdcfc4c7-6b2b-417e-aea5-25ed2f2a59b9",
   "metadata": {},
   "outputs": [],
   "source": [
    "from sklearn.preprocessing import LabelEncoder\n",
    "\n",
    "df[\"Activity_Labels\"] = LabelEncoder().fit_transform(df[\"Activity\"])\n",
    "\n",
    "print(df[\"Activity_Labels\"].unique())\n",
    "print(df[\"Activity_Labels\"].value_counts())"
   ]
  },
  {
   "cell_type": "code",
   "execution_count": null,
   "id": "013ada29-09f9-4d2d-b540-62bbc08d8814",
   "metadata": {},
   "outputs": [],
   "source": [
    "feature_cols = df.columns[:-2]\n",
    "print(feature_cols)\n",
    "corr_values = df[feature_cols].corr()\n",
    "\n",
    "tril_index = np.tril_indices_from(corr_values)\n",
    "\n",
    "for coord in zip(*tril_index):\n",
    "    corr_values.iloc[coord[0], coord[1]] = np.nan\n",
    "\n",
    "corr_values = (corr_values\n",
    "               .stack()\n",
    "               .to_frame()\n",
    "               .reset_index()\n",
    "               .rename(columns={\n",
    "                   'level_0':'feature1',\n",
    "                   'level_1':'feature2',\n",
    "                   0:'correlation'\n",
    "               })\n",
    ")\n",
    "\n",
    "corr_values['abs_correlation'] = corr_values.correlation.abs()"
   ]
  },
  {
   "cell_type": "code",
   "execution_count": null,
   "id": "b979da70-3774-4a37-8a6c-d7169d8c73eb",
   "metadata": {},
   "outputs": [],
   "source": [
    "import seaborn as sns\n",
    "\n",
    "sns.set_context(\"talk\")\n",
    "sns.set_style(\"white\")\n",
    "\n",
    "ax = corr_values.abs_correlation.hist(bins=50, figsize=(12, 8))\n",
    "ax.set(xlabel=\"Absolute Correlation\", ylabel=\"Frequency\")\n",
    "plt.show()"
   ]
  },
  {
   "cell_type": "code",
   "execution_count": null,
   "id": "c59ef48e-ea36-4d21-9fcb-0383c627502e",
   "metadata": {},
   "outputs": [],
   "source": [
    "print(corr_values.head())"
   ]
  },
  {
   "cell_type": "code",
   "execution_count": null,
   "id": "00c03eee-8804-47bb-977e-1d0ec1a19c63",
   "metadata": {},
   "outputs": [],
   "source": [
    "filtered = corr_values.sort_values(\"correlation\", ascending=False).query(\"abs_correlation>0.8\")"
   ]
  },
  {
   "cell_type": "code",
   "execution_count": null,
   "id": "9f903e84-0456-4fe0-80e8-070ee7e1c557",
   "metadata": {},
   "outputs": [],
   "source": [
    "unique_features = pd.unique(filtered[['feature1', 'feature2']].values.ravel())\n",
    "print(\"Số lượng feature xuất hiện trong các cặp tương quan > 0.8:\", len(unique_features))\n",
    "print(\"Các feature đó là:\", unique_features)"
   ]
  },
  {
   "cell_type": "code",
   "execution_count": null,
   "id": "97c71969-e3f2-4ab2-821e-ddce303db518",
   "metadata": {},
   "outputs": [],
   "source": [
    "from sklearn.model_selection import train_test_split\n",
    "from sklearn.linear_model import LogisticRegressionCV\n",
    "\n",
    "x = df[feature_cols].dropna()\n",
    "y = df.loc[x.index, 'Activity_Labels']\n",
    "\n",
    "x_train, x_test, y_train, y_test = train_test_split(x, y, test_size=0.2, random_state=42)\n",
    "\n",
    "\n",
    "lr_l1 = LogisticRegressionCV(Cs=10, cv=4, penalty='l1', solver='liblinear').fit(x_train, y_train)"
   ]
  },
  {
   "cell_type": "code",
   "execution_count": null,
   "id": "60a4a361-b7ee-48db-afa3-4442e97a3580",
   "metadata": {},
   "outputs": [],
   "source": [
    "lr_l2 = LogisticRegressionCV(Cs=10, cv=4, penalty='l2', solver='liblinear').fit(x_train, y_train)"
   ]
  }
 ],
 "metadata": {
  "kernelspec": {
   "display_name": "Python [conda env:base] *",
   "language": "python",
   "name": "conda-base-py"
  },
  "language_info": {
   "codemirror_mode": {
    "name": "ipython",
    "version": 3
   },
   "file_extension": ".py",
   "mimetype": "text/x-python",
   "name": "python",
   "nbconvert_exporter": "python",
   "pygments_lexer": "ipython3",
   "version": "3.12.7"
  }
 },
 "nbformat": 4,
 "nbformat_minor": 5
}
